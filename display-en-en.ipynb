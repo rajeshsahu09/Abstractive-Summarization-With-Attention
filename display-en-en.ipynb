{
 "nbformat": 4,
 "nbformat_minor": 2,
 "metadata": {
  "language_info": {
   "name": "python",
   "codemirror_mode": {
    "name": "ipython",
    "version": 3
   },
   "version": "3.7.3-final"
  },
  "orig_nbformat": 2,
  "file_extension": ".py",
  "mimetype": "text/x-python",
  "name": "python",
  "npconvert_exporter": "python",
  "pygments_lexer": "ipython3",
  "version": 3,
  "kernelspec": {
   "name": "python37364bitd476cbdaffd048129eade4390dbd2e46",
   "display_name": "Python 3.7.3 64-bit"
  }
 },
 "cells": [
  {
   "cell_type": "code",
   "execution_count": 1,
   "metadata": {},
   "outputs": [],
   "source": [
    "import os"
   ]
  },
  {
   "cell_type": "code",
   "execution_count": 2,
   "metadata": {},
   "outputs": [
    {
     "data": {
      "text/plain": "['.ipynb_checkpoints',\n 'article',\n 'display.ipynb',\n 'model_eval_rouge_bleu.ipynb',\n 'rouge_dec_dir',\n 'rouge_ref']"
     },
     "execution_count": 2,
     "metadata": {},
     "output_type": "execute_result"
    }
   ],
   "source": [
    "os.listdir('.')"
   ]
  },
  {
   "cell_type": "code",
   "execution_count": 3,
   "metadata": {},
   "outputs": [],
   "source": [
    "article = os.listdir('article')\n",
    "decoded = os.listdir('rouge_dec_dir')\n",
    "ref = os.listdir('rouge_ref')\n",
    "article.sort()\n",
    "decoded.sort()\n",
    "ref.sort()"
   ]
  },
  {
   "cell_type": "code",
   "execution_count": 4,
   "metadata": {},
   "outputs": [
    {
     "data": {
      "text/plain": "(['000000_decoded.txt',\n  '000001_decoded.txt',\n  '000002_decoded.txt',\n  '000003_decoded.txt',\n  '000004_decoded.txt',\n  '000005_decoded.txt',\n  '000006_decoded.txt',\n  '000007_decoded.txt',\n  '000008_decoded.txt',\n  '000009_decoded.txt'],\n ['000000_reference.txt',\n  '000001_reference.txt',\n  '000002_reference.txt',\n  '000003_reference.txt',\n  '000004_reference.txt',\n  '000005_reference.txt',\n  '000006_reference.txt',\n  '000007_reference.txt',\n  '000008_reference.txt',\n  '000009_reference.txt'])"
     },
     "execution_count": 4,
     "metadata": {},
     "output_type": "execute_result"
    }
   ],
   "source": [
    "(decoded[:10], ref[:10])"
   ]
  },
  {
   "cell_type": "code",
   "execution_count": 5,
   "metadata": {},
   "outputs": [
    {
     "name": "stdout",
     "output_type": "stream",
     "text": " chefs : still the table should be on . people . say will that meals in between snacking weight gain to lead can . but studies n't that the either case to be show do . general in people the the day of rest throughout snacking for compensate , . other words in it not necessarily bad , 's usual meal times outside of snack to . it all enough 's to one despair to cause . but just so because what of we believe much wrong is n't mean does we still n't do ca the issue about something . studies show do that you absolutely genetic and familial factors to weight lose overcome can . they show significant physical activity weight loss with help that can and it the added bonus of healthier general in making you has , that . your caloric intake reducing overall , especially if it a way in your overall eating habits change to done 's works . getting the whole family involved important is . and finally some for bariatric surgery life changing - outcomes in . result , , can . the past five years over my wife and i quite a weight of bit lost , have . i down 15 % between 20 my more than 200 pounds of high of % to somewhere 'm . my wife although i not to you any numbers i married -lrb- -rrb- like being give going 'm lost even more , . now that i back look if i it about honest to be going 'm , i it bursts in a few months over here and there each time back i lost than had less gaining , did , . 7 weight loss myths of sort -lrb- -rrb- debunked . each time , i ambitious 15 pounds of goals or more in three to two months and each time , i really my caloric intake restricted . had . but i radically changing by my overall eating habits . kept 've the weight off . my breakfast just coffee of consists , i very light salads such as lunches , eat , and dinner usually a healthy home - cooked the family with meal is . my wife way she to used than more cooks and with ways to healthier meals make finding obsessed is . i fried foods almost entirely avoid and i n't remember , ca the last time i a fast food restaurant in ate . i also the gym to three to two times . get each week . i n't you this i think because this what is you do should tell do because i think or it the key , 's thinner getting to . i you more because and more tell this , i think the sustained weight loss to journey a very personal and individual path that is . perhaps our problem is we to a one size - fits - - all solution find trying 're . i not sure 'm that exists . lastly , what this new scientific paper out of left was prevention was . the single best way obesity fight to is it the first place in avoid to . that when kids young are start to has and it a lifelong journey , 's . but one thing i doubt ever false proved will be . is that it much not the weight the first place in it later take than to off gain to easier 's . the opinions this commentary in expressed solely aaron of carroll those are . the opinions this commentary in expressed solely aaron of carroll those are .\n[decoded]:\n [UNK] [UNK] : i 'm joking , and his weight shows us about a medical knowledge .\nhe says small sustained lifestyle changes can count that you expect what 'd expect this problem .\n[UNK] : toll of obesity and obesity are overweight .\n[reference]:\n aaron carroll : i thought i knew all about obesity ; a new study challenges that .\nhe says obesity a big problem , but weight loss not as simple as fruits , veggies and no snacks .\nstudies do show that overall , vigorous exercise and watching calories help .\ncarroll : best tool against obesity is not to get there in first place .\n****************************************************************************************************\n\n[article]:\n ohio inmate dennis mcguire to before he lethal injection by a new drugs of reporters , who it witnessed said combination using died thursday gasp and roughly 10 minutes for convulse . appeared . mcguire the 22-year - old joy of stewart rape of and murder , who seven months pregnant was 1994 in convicted was . her relatives southern ohio correctional lucasville in facility were at , television reporter from sheila gray tweets according to witness to his death . mcguire 's '' law in - children and - daughter crying were and visibly upset gray . tweeted , '' she mcguire said , the drugs effect took before , stewart 's family a letter for he apparently received thanked . '' my children to i . sorry , 'm . i you . love . i heaven to going 'm and i you there you come when see 'll '' mcguire reportedly , cnn affiliate wdtn according to said , . columbus dispatch reporter alan johnson said that the whole execution process took 24 minutes and that mcguire to air for 13 to 10 minutes for gasping be appeared , . he deeply . gasped '' kind a rattling of it , guttural sound was . there a his nose through snorting of kind was . a times of couple , he definitely choking to be appeared , '' wdtn johnson as saying quoted . the convicted murderer dead 10:53 a.m. at pronounced was . et . the execution generated controversy many states because like ohio to their drugs executions in them among , danish - based lundbeck , which pentobarbital manufactures using from find new drug european - based manufacturers after u.s. prisons banned protocols -- forced , , has been . ohio 's corrections department according to the state a the drugs midazolam of , a sedative and the painkiller hydromorphone combination ; used , . both the time of length it mcguire for die to took and his gasping not an execution for typical are howard nearman , an university hospitals case medical cleveland in center at anesthesiologist said , . why it 24 minutes took , i really n't tell ca you he . said '' , '' it just you wonder what given was -- makes '' ? the timing , and the doses what were ? what was '' an opinion piece in cnn for written this week , a law professor noted mcguire 's attorneys argued that he '' death to agony in and terror suffocate would . '' the state disagrees '' . but the truth is that no one knows exactly how mcguire die will how long it take , will or what he the process in experience will '' elisabeth a. semel , clinic law of and the death penalty u.c. berkeley law of school at clinic of director professor wrote , . mcguire 's legal team of behalf on speaking attorney allen bohnert the governor on to a future executions on moratorium because of what place thursday took impose called , . this point at , it entirely premature is to other a failed agonizing experiment than , anything be consider to this execution protocol he a statement in said '' , '' . the the ohio of state of people what here our names of all in done at was today . appalled '' should be . ohio , its citizens like , follow must the law . the state failed has . '' cnn 's sonny hostin said that mcguire 's execution likely debate how inmates the the drugs of use to react cruel and unusual punishment the u.s. constitution by prohibited constitutes over whether spark will . '' whenever there a the lethal injection process in change 's clearly it legal proceedings to subject 's and perhaps we those see will , hostin . said '' ohio pentobarbital out of , which a narcotic and sedative , september in joellen according to smith , the ohio rehabilitation of and correction department for spokeswoman barbiturate is , ran . that shortage to response in , the department to the use for midazolam of and hydromorphone allow . amended its execution policy . stewart 's body a southwestern ohio in creek near hikers by 1989 of february in . discovered was . her throat cut was and she sodomized had been . death penalty states lethal injection drugs for scramble . there currently 138 men and one death ohio in row on woman . are . the state death row inmate ron phillips the new drug combination using last year execute to . set was but gov. john kasich the convicted killer a execution of stay a a possible organ donation of his family members to review pending granted , . death the u.s. in penalty gradually declining . serial killer joseph franklin delay of hours after executed . a death row interview . a death row interview .\n[decoded]:\n mcguire mcguire was convicted of rape and murder of stewart - old joy who was seven months pregnant .\nmcguire 's children were crying and visibly upset gray , tweets show .\nthe execution generated controversy controversy .\n[reference]:\n execution was '' a failed , agonizing experiment , '' attorney says .\na medical expert questions why the process took 24 minutes .\nconvicted killer dennis mcguire reportedly says '' i 'm going to heaven ''\nfacing shortages , states are scrambling to find new drug protocols .\n****************************************************************************************************\n\n[article]:\n cnn -lrb- -rrb- -- five years for , taliban militants bowe . bergdahl captive held sgt . they him of images time from time to . released . one footage of piece in he gaunt slowly eating appeared , , . another in the soldier next a bearded man to a gun with stood , and the camera at a moment for looked . bergdahl 's forehead furrowed was and there his face on cuts to be appeared , . forward late may to the 28-year old - exchange in five senior taliban members for the u.s. military by held freed when was fast . the bergdahl 's freedom of news initially jubilation with . met was , but it quickly as many an investigation for his disappearance into and captivity called turned . some critics the soldier his comrades war in deserting of accused . less than two months later the army . announced , monday that bergdahl medical care and mental counseling an army san in antonio hospital at completed has . he to back work to get going is the army said , . the soldier soon a desk fort sam at houston job take will , u.s. army north spokesman don manuszewski said . bergdahl a homeland defense for civil support operations , and security cooperation programs canada such as , mexico and the bahamas involving countries responsible unit to assigned will be . manuszewski n't offer would any what about bergdahl day to doing will be day details but said the former captive not any different '' any other soldier than treated will be . '' he not an office when 's in , bergdahl barracks in live will and a bathroom other service members with share . he his own room have 'll the spokesman said , . sponsor ' ' to bergdahl readjust help . bergdahl 30 2009 june on , , in afghanistan 's paktika , province where he the 1st battalion with 501st infantry regiment , , 4th brigade combat team , 25th infantry division deployed was missing went . an army fact finding - investigation the months in after his disappearance concluded that bergdahl his outpost deliberately and his own free will of , an official according to , who the report on briefed was left conducted . but there no definitive conclusion that bergdahl 's intent knowing require because would was -- something officials n't him to talking without learn could , a u.s. military official said has . the last the investigation in step likely bergdahl 's account hearing . include would . fort sam at houston , bergdahl to army life to adjust again help him have will a sponsor '' '' manuszewski , . said , which he routine new the post at anyone for called . the army people who a similar a sponsor with age are of , sometimes a few the post newcomer above ranks being match to . tries . the new york times reported monday that two soldiers bergdahl army life to readjust help will . a stress of soldier for expected lot . just how all this change only feel will bergdahl know will . but there 's little doubt him of scrutiny intense will be and constant , m. david rudd , who mental health trauma in specializes said . he a former the university of utah 's social of college of and behavioral science dean is and also the the american suicidology of association of president was . the stress level dramatically increase to going is '' rudd , who now the the memphis of university of president is . said '' , . '' the stigma of the military in issue -- ... the circumstances that his disappearance and the questions raised surround probably other troops in provoke to significant passions '' going are . some fellow soldiers publicly bergdahl a deserter as blasted have . longtime war correspondent who afghanistan in worked has mike boettcher , , said he believes bergdahl to a tough time readjusting have going is . gunmen boettcher el in salvador 1985 in kidnapped and he to his footing after freed being regain struggled , . a reporter as emotionally wrenching topics covering he . felt , he hard prove to he it handle could work to extra had . '' you is about how other people you of think worried what 're boettcher cnn monday on . told , '' my own instance in i like people me a fragile egg like treating were felt '' , . so i '' felt i something to prove had . bergdahl 's family for , there change too . be will , . the casualty assistance workers who the service member 's his captivity during relatives helped conclude will their services monday , manuszewski said . bergdahl 's family members help need if they the post call , can and it for ask . '' we him treating are the same way we here assigned treat would any other person '' manuszewski said , . the family called if ... we what we could them support to do '' would . '' col . timothy marsano , a the family for spokesman cnn bergdahl 's new job assignment any communication of the soldier between and his family kind brought if had tell to declined , . his release since there not a , reunion a public one at least been , has . mid june in - the fbi said , it bergdahl 's parents against threats investigating was . bergdahl - base off venturing , elbows public with rubbing . fellow soldiers bergdahl a deserter call . cnn 's holly yan this report to contributed . cnn 's holly yan this report to contributed .\n[decoded]:\n militants held captive in san antonio , afghanistan 's province , initially fast .\nbergdahl 's freedom of freedom was met with jubilation , but it was quickly detained .\nthe 28-year - old exchange has completed medical care and mental counseling at army hospital .\n[reference]:\n sgt . bowe bergdahl will take desk job at army post in texas , military spokesman says .\nbergdahl has finished therapy at an army hospital in san antonio .\nstress will '' increase dramatically '' for soldier , mental health expert says .\nhe was released in may after five years in exchange for the u.s. freeing five taliban members .\n****************************************************************************************************\n\n[article]:\n cnn -lrb- -rrb- -- she steel of nerves golf talent , , and a precocious eye catching - fashion for 11-year old - lucy li , the youngest u.s. women 's open history in qualifier : flair her tender years beyond got 's , entirely home at she 2 . pinehurst at teed as - off no looked . a three bad north carolina in holes despite , which meant she her round an - 78 par over - eight , li impressed a composed round with that her bounce back quickly disappointing shots from saw onlookers with . finished . she the course smiling two double bogeys - and a triple assured play with bogey - the first at and fifth birdies including followed having up -- left , . it great was li . told '' , '' reporters thursday . what i so my round about in -rrb- that -lrb- was happy was , i doubles and triples got after i it back get to able '' , was . and i a pars of lot that after got . '' the tournament into heading li said , her only ambition was to '' fun have and the best i can play . '' but the california native also not least how to the perilous course with -- which the men 's u.s. hosted open last week deal growing , her pinehurst at time in experience . count can . '' it tough 's '' li . said , . you the ball three feet by miss '' and it a two - or three shot - difference could be like . you it more right hit '' could three feet and you this far away birdie for putting 'd be . or you the '' bunker could be in and a bogey for struggling . tour pros doubts the child amateur -- still wearing braces and a box on to the media her opening round after address standing -- . raised had the such a big professional event of pressure to and expectation subjected about whether should be . when i found out she qualified i ? said '' , , ' well where she here from go , does . you an open for 11 at , '' qualify what you next do do ? ' world no . 1 stacy lewis wednesday on asked . the 29-year - old . '' added : '' if it my kid was i n't her in the u.s. open qualifier 11 at play let , would , but that just me 's . pressure the li 's worries of least to be she the older her playing group of members with chatted as and an ice cream on the post - round press conference during feasted . seemed . she so her age for mature is , 23-year old - jessica wallace , who -- li with and catherine o'donnell played said '' '' the latter also 78 shot . there times i more immature than she is felt when were '' . catherine and i fun her to talking had . she so , mature 's it like another 23-year - old to talking 's . '' li officially the youngest player her place an half moon bay golf club at event at her california in home near securing after qualify to became . she fellow american , lexi thompson who the 2007 open aged 12 for , qualified become to the youngest qualifier beats . but li not the youngest is to the tournament at compete -- beverley klass 1967 in to qualify just 10 aged , having without competed , . canadian wallace 74 course be on to to the halfway cut seven shots , first round - leader behind lewis li , and o'donnell make carded while the projected their second rounds ahead of friday top-60 were outside . and there n't a fairytale li for end was -- she another 78 friday on , carding after more highs with and lows as she 120th for the 154-player field in tied laced missed the weekend rounds . '' i really with how i back the big numbers from bounced happy 'm , , li who again a box on her press conference at reach to the microphone friday stand to had said '' . just . '' patient '' be and not what about happened care , just the next shot to go and it nothing like it the first shot like 's hit , . her caddy bryan bush '' . added : she proved she to here be deserved that . her play itself for . spoke . '' it never score was about he said , '' . '' she the experience for and the opportunity the best the world in players with play to . here was . she . proved she can that '' the weekend attention one child prodigy from a former one to as michelle wie claimed a three shot - thompson from lead switched , . the 24-year - old wie also prominence to a young age at came but still seeking is her first major title . she the last two holes to 19-year old - , thompson of who 16 at the youngest an lpga event of until that record lydia by ko 2012 in taken was winner was clear move birdied . new zealand 's ko , now 17 , 71 the leaderboard 29th for tied , being move to up and make the cut fired . world . no 1 stacy lewis the opening round - lead from a third for a 73 after which the american four shots compatriot behind wie left tie to dropped . world . no 1 stacy lewis the opening round - lead from a third for a 73 after which the american four shots compatriot behind wie left tie to dropped .\n[decoded]:\n lucy - old lucy li - the youngest u.s. women 's open history in north carolina .\nthe 11-year - old is the youngest u.s. women 's open qualifier in north carolina .\nli meets the deal with a composed 78 - over 78 at pinehurst .\n[reference]:\n lucy li , 11 , becomes the youngest qualifier to play in u.s. women 's open history .\nli records opening eight - over - par 78 , after two double - bogeys and a triple - bogey .\namerican misses the halfway cut after carding another 78 on friday .\nformer child prodigy michelle wie takes three - shot lead at halfway stage .\n****************************************************************************************************\n\n"
    }
   ],
   "source": [
    "for a, d, r in zip(article[:100], decoded[:100], ref[:100]):\n",
    "    ai = open(os.path.join('article', a), mode='r', encoding='utf-8', errors='surrogateescape')\n",
    "    di = open(os.path.join('rouge_dec_dir', d), mode='r', encoding='utf-8', errors='surrogateescape')\n",
    "    ri = open(os.path.join('rouge_ref', r), mode='r', encoding='utf-8', errors='surrogateescape')\n",
    "    print('[article]:\\n', ai.read())\n",
    "    print('[decoded]:\\n', di.read())\n",
    "    print('[reference]:\\n', ri.read())\n",
    "    print('*'*100)\n",
    "    print()\n",
    "    ai.close()\n",
    "    di.close()\n",
    "    ri.close()"
   ]
  },
  {
   "cell_type": "code",
   "execution_count": null,
   "metadata": {},
   "outputs": [],
   "source": []
  }
 ]
}