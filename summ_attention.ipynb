{
 "cells": [
  {
   "cell_type": "code",
   "execution_count": 1,
   "metadata": {},
   "outputs": [],
   "source": [
    "import pandas as pd\n",
    "import numpy as np"
   ]
  },
  {
   "cell_type": "code",
   "execution_count": 2,
   "metadata": {},
   "outputs": [
    {
     "data": {
      "text/plain": [
       "(568454, 10)"
      ]
     },
     "execution_count": 2,
     "metadata": {},
     "output_type": "execute_result"
    }
   ],
   "source": [
    "df = pd.read_csv('Reviews.csv')\n",
    "df.shape"
   ]
  },
  {
   "cell_type": "code",
   "execution_count": 3,
   "metadata": {},
   "outputs": [],
   "source": [
    "reviews = df[['Text', 'Summary']]"
   ]
  },
  {
   "cell_type": "code",
   "execution_count": 4,
   "metadata": {},
   "outputs": [
    {
     "name": "stdout",
     "output_type": "stream",
     "text": [
      "<class 'pandas.core.frame.DataFrame'>\n",
      "RangeIndex: 568454 entries, 0 to 568453\n",
      "Data columns (total 2 columns):\n",
      "Text       568454 non-null object\n",
      "Summary    568427 non-null object\n",
      "dtypes: object(2)\n",
      "memory usage: 8.7+ MB\n"
     ]
    }
   ],
   "source": [
    "reviews.info()"
   ]
  },
  {
   "cell_type": "code",
   "execution_count": 5,
   "metadata": {},
   "outputs": [
    {
     "name": "stdout",
     "output_type": "stream",
     "text": [
      "Null entry in Text : False\n",
      "Null entry in Summary : True\n"
     ]
    }
   ],
   "source": [
    "for col in reviews.columns:\n",
    "    print(\"Null entry in {} : {}\".format(col, reviews[reviews[str(col)].isnull() == True].shape[0] != 0))"
   ]
  },
  {
   "cell_type": "code",
   "execution_count": 6,
   "metadata": {},
   "outputs": [
    {
     "data": {
      "text/html": [
       "<div>\n",
       "<style scoped>\n",
       "    .dataframe tbody tr th:only-of-type {\n",
       "        vertical-align: middle;\n",
       "    }\n",
       "\n",
       "    .dataframe tbody tr th {\n",
       "        vertical-align: top;\n",
       "    }\n",
       "\n",
       "    .dataframe thead th {\n",
       "        text-align: right;\n",
       "    }\n",
       "</style>\n",
       "<table border=\"1\" class=\"dataframe\">\n",
       "  <thead>\n",
       "    <tr style=\"text-align: right;\">\n",
       "      <th></th>\n",
       "      <th>Id</th>\n",
       "      <th>ProductId</th>\n",
       "      <th>UserId</th>\n",
       "      <th>ProfileName</th>\n",
       "      <th>HelpfulnessNumerator</th>\n",
       "      <th>HelpfulnessDenominator</th>\n",
       "      <th>Score</th>\n",
       "      <th>Time</th>\n",
       "      <th>Summary</th>\n",
       "      <th>Text</th>\n",
       "    </tr>\n",
       "  </thead>\n",
       "  <tbody>\n",
       "    <tr>\n",
       "      <td>33958</td>\n",
       "      <td>33959</td>\n",
       "      <td>B00412W76S</td>\n",
       "      <td>A3TJPSWY2HE4BS</td>\n",
       "      <td>S. Layton \"homeschool blogger\"</td>\n",
       "      <td>1</td>\n",
       "      <td>24</td>\n",
       "      <td>2</td>\n",
       "      <td>1173312000</td>\n",
       "      <td>NaN</td>\n",
       "      <td>I only used two maybe three tea bags and got p...</td>\n",
       "    </tr>\n",
       "    <tr>\n",
       "      <td>40548</td>\n",
       "      <td>40549</td>\n",
       "      <td>B00020HHRW</td>\n",
       "      <td>A3TJPSWY2HE4BS</td>\n",
       "      <td>S. Layton \"homeschool blogger\"</td>\n",
       "      <td>1</td>\n",
       "      <td>24</td>\n",
       "      <td>2</td>\n",
       "      <td>1173312000</td>\n",
       "      <td>NaN</td>\n",
       "      <td>I only used two maybe three tea bags and got p...</td>\n",
       "    </tr>\n",
       "    <tr>\n",
       "      <td>101106</td>\n",
       "      <td>101107</td>\n",
       "      <td>B0014B0HWK</td>\n",
       "      <td>A3TJPSWY2HE4BS</td>\n",
       "      <td>S. Layton \"homeschool blogger\"</td>\n",
       "      <td>1</td>\n",
       "      <td>24</td>\n",
       "      <td>2</td>\n",
       "      <td>1173312000</td>\n",
       "      <td>NaN</td>\n",
       "      <td>I only used two maybe three tea bags and got p...</td>\n",
       "    </tr>\n",
       "    <tr>\n",
       "      <td>102979</td>\n",
       "      <td>102980</td>\n",
       "      <td>B000FVDWU4</td>\n",
       "      <td>A3TJPSWY2HE4BS</td>\n",
       "      <td>S. Layton \"homeschool blogger\"</td>\n",
       "      <td>1</td>\n",
       "      <td>24</td>\n",
       "      <td>2</td>\n",
       "      <td>1173312000</td>\n",
       "      <td>NaN</td>\n",
       "      <td>I only used two maybe three tea bags and got p...</td>\n",
       "    </tr>\n",
       "    <tr>\n",
       "      <td>117515</td>\n",
       "      <td>117516</td>\n",
       "      <td>B0016B7Z32</td>\n",
       "      <td>A3TJPSWY2HE4BS</td>\n",
       "      <td>S. Layton \"homeschool blogger\"</td>\n",
       "      <td>1</td>\n",
       "      <td>24</td>\n",
       "      <td>2</td>\n",
       "      <td>1173312000</td>\n",
       "      <td>NaN</td>\n",
       "      <td>I only used two maybe three tea bags and got p...</td>\n",
       "    </tr>\n",
       "    <tr>\n",
       "      <td>155712</td>\n",
       "      <td>155713</td>\n",
       "      <td>B0009VO58S</td>\n",
       "      <td>A3TJPSWY2HE4BS</td>\n",
       "      <td>S. Layton \"homeschool blogger\"</td>\n",
       "      <td>1</td>\n",
       "      <td>24</td>\n",
       "      <td>2</td>\n",
       "      <td>1173312000</td>\n",
       "      <td>NaN</td>\n",
       "      <td>I only used two maybe three tea bags and got p...</td>\n",
       "    </tr>\n",
       "    <tr>\n",
       "      <td>178290</td>\n",
       "      <td>178291</td>\n",
       "      <td>B00073IVAQ</td>\n",
       "      <td>A3TJPSWY2HE4BS</td>\n",
       "      <td>S. Layton \"homeschool blogger\"</td>\n",
       "      <td>1</td>\n",
       "      <td>24</td>\n",
       "      <td>2</td>\n",
       "      <td>1173312000</td>\n",
       "      <td>NaN</td>\n",
       "      <td>I only used two maybe three tea bags and got p...</td>\n",
       "    </tr>\n",
       "    <tr>\n",
       "      <td>198474</td>\n",
       "      <td>198475</td>\n",
       "      <td>B000FVBYCW</td>\n",
       "      <td>A3TJPSWY2HE4BS</td>\n",
       "      <td>S. Layton \"homeschool blogger\"</td>\n",
       "      <td>1</td>\n",
       "      <td>24</td>\n",
       "      <td>2</td>\n",
       "      <td>1173312000</td>\n",
       "      <td>NaN</td>\n",
       "      <td>I only used two maybe three tea bags and got p...</td>\n",
       "    </tr>\n",
       "    <tr>\n",
       "      <td>212691</td>\n",
       "      <td>212692</td>\n",
       "      <td>B00020HHAO</td>\n",
       "      <td>A3TJPSWY2HE4BS</td>\n",
       "      <td>S. Layton \"homeschool blogger\"</td>\n",
       "      <td>1</td>\n",
       "      <td>24</td>\n",
       "      <td>2</td>\n",
       "      <td>1173312000</td>\n",
       "      <td>NaN</td>\n",
       "      <td>I only used two maybe three tea bags and got p...</td>\n",
       "    </tr>\n",
       "    <tr>\n",
       "      <td>237565</td>\n",
       "      <td>237566</td>\n",
       "      <td>B000ELGPAO</td>\n",
       "      <td>A15AMT9T9A1309</td>\n",
       "      <td>Film-Friend</td>\n",
       "      <td>1</td>\n",
       "      <td>1</td>\n",
       "      <td>3</td>\n",
       "      <td>1328572800</td>\n",
       "      <td>NaN</td>\n",
       "      <td>This is a cool system only problem is that the...</td>\n",
       "    </tr>\n",
       "    <tr>\n",
       "      <td>293906</td>\n",
       "      <td>293907</td>\n",
       "      <td>B00020HHM2</td>\n",
       "      <td>A3TJPSWY2HE4BS</td>\n",
       "      <td>S. Layton \"homeschool blogger\"</td>\n",
       "      <td>1</td>\n",
       "      <td>24</td>\n",
       "      <td>2</td>\n",
       "      <td>1173312000</td>\n",
       "      <td>NaN</td>\n",
       "      <td>I only used two maybe three tea bags and got p...</td>\n",
       "    </tr>\n",
       "    <tr>\n",
       "      <td>299495</td>\n",
       "      <td>299496</td>\n",
       "      <td>B00142BX68</td>\n",
       "      <td>A3TJPSWY2HE4BS</td>\n",
       "      <td>S. Layton \"homeschool blogger\"</td>\n",
       "      <td>1</td>\n",
       "      <td>24</td>\n",
       "      <td>2</td>\n",
       "      <td>1173312000</td>\n",
       "      <td>NaN</td>\n",
       "      <td>I only used two maybe three tea bags and got p...</td>\n",
       "    </tr>\n",
       "    <tr>\n",
       "      <td>300961</td>\n",
       "      <td>300962</td>\n",
       "      <td>B000VJYTZM</td>\n",
       "      <td>A3TJPSWY2HE4BS</td>\n",
       "      <td>S. Layton \"homeschool blogger\"</td>\n",
       "      <td>1</td>\n",
       "      <td>24</td>\n",
       "      <td>2</td>\n",
       "      <td>1173312000</td>\n",
       "      <td>NaN</td>\n",
       "      <td>I only used two maybe three tea bags and got p...</td>\n",
       "    </tr>\n",
       "    <tr>\n",
       "      <td>333556</td>\n",
       "      <td>333557</td>\n",
       "      <td>B00188S3PM</td>\n",
       "      <td>A3TJPSWY2HE4BS</td>\n",
       "      <td>S. Layton \"homeschool blogger\"</td>\n",
       "      <td>1</td>\n",
       "      <td>24</td>\n",
       "      <td>2</td>\n",
       "      <td>1173312000</td>\n",
       "      <td>NaN</td>\n",
       "      <td>I only used two maybe three tea bags and got p...</td>\n",
       "    </tr>\n",
       "    <tr>\n",
       "      <td>352043</td>\n",
       "      <td>352044</td>\n",
       "      <td>B000M0F58U</td>\n",
       "      <td>A3TJPSWY2HE4BS</td>\n",
       "      <td>S. Layton \"homeschool blogger\"</td>\n",
       "      <td>1</td>\n",
       "      <td>24</td>\n",
       "      <td>2</td>\n",
       "      <td>1173312000</td>\n",
       "      <td>NaN</td>\n",
       "      <td>I only used two maybe three tea bags and got p...</td>\n",
       "    </tr>\n",
       "    <tr>\n",
       "      <td>357215</td>\n",
       "      <td>357216</td>\n",
       "      <td>B0006I5M2M</td>\n",
       "      <td>A3TJPSWY2HE4BS</td>\n",
       "      <td>S. Layton \"homeschool blogger\"</td>\n",
       "      <td>1</td>\n",
       "      <td>24</td>\n",
       "      <td>2</td>\n",
       "      <td>1173312000</td>\n",
       "      <td>NaN</td>\n",
       "      <td>I only used two maybe three tea bags and got p...</td>\n",
       "    </tr>\n",
       "    <tr>\n",
       "      <td>357814</td>\n",
       "      <td>357815</td>\n",
       "      <td>B001GCTTRQ</td>\n",
       "      <td>A3TJPSWY2HE4BS</td>\n",
       "      <td>S. Layton \"homeschool blogger\"</td>\n",
       "      <td>1</td>\n",
       "      <td>24</td>\n",
       "      <td>2</td>\n",
       "      <td>1173312000</td>\n",
       "      <td>NaN</td>\n",
       "      <td>I only used two maybe three tea bags and got p...</td>\n",
       "    </tr>\n",
       "    <tr>\n",
       "      <td>360782</td>\n",
       "      <td>360783</td>\n",
       "      <td>B00020HHHC</td>\n",
       "      <td>A3TJPSWY2HE4BS</td>\n",
       "      <td>S. Layton \"homeschool blogger\"</td>\n",
       "      <td>1</td>\n",
       "      <td>24</td>\n",
       "      <td>2</td>\n",
       "      <td>1173312000</td>\n",
       "      <td>NaN</td>\n",
       "      <td>I only used two maybe three tea bags and got p...</td>\n",
       "    </tr>\n",
       "    <tr>\n",
       "      <td>379473</td>\n",
       "      <td>379474</td>\n",
       "      <td>B007RLRCLK</td>\n",
       "      <td>A3TJPSWY2HE4BS</td>\n",
       "      <td>S. Layton \"homeschool blogger\"</td>\n",
       "      <td>1</td>\n",
       "      <td>24</td>\n",
       "      <td>2</td>\n",
       "      <td>1173312000</td>\n",
       "      <td>NaN</td>\n",
       "      <td>I only used two maybe three tea bags and got p...</td>\n",
       "    </tr>\n",
       "    <tr>\n",
       "      <td>380558</td>\n",
       "      <td>380559</td>\n",
       "      <td>B00014DXCC</td>\n",
       "      <td>A3TJPSWY2HE4BS</td>\n",
       "      <td>S. Layton \"homeschool blogger\"</td>\n",
       "      <td>1</td>\n",
       "      <td>24</td>\n",
       "      <td>2</td>\n",
       "      <td>1173312000</td>\n",
       "      <td>NaN</td>\n",
       "      <td>I only used two maybe three tea bags and got p...</td>\n",
       "    </tr>\n",
       "    <tr>\n",
       "      <td>381313</td>\n",
       "      <td>381314</td>\n",
       "      <td>B00020HHK4</td>\n",
       "      <td>A3TJPSWY2HE4BS</td>\n",
       "      <td>S. Layton \"homeschool blogger\"</td>\n",
       "      <td>1</td>\n",
       "      <td>24</td>\n",
       "      <td>2</td>\n",
       "      <td>1173312000</td>\n",
       "      <td>NaN</td>\n",
       "      <td>I only used two maybe three tea bags and got p...</td>\n",
       "    </tr>\n",
       "    <tr>\n",
       "      <td>386283</td>\n",
       "      <td>386284</td>\n",
       "      <td>B00073JVFU</td>\n",
       "      <td>A3TJPSWY2HE4BS</td>\n",
       "      <td>S. Layton \"homeschool blogger\"</td>\n",
       "      <td>1</td>\n",
       "      <td>24</td>\n",
       "      <td>2</td>\n",
       "      <td>1173312000</td>\n",
       "      <td>NaN</td>\n",
       "      <td>I only used two maybe three tea bags and got p...</td>\n",
       "    </tr>\n",
       "    <tr>\n",
       "      <td>392529</td>\n",
       "      <td>392530</td>\n",
       "      <td>B001H9XOEW</td>\n",
       "      <td>A22R17YPXEULEZ</td>\n",
       "      <td>Liz Wong</td>\n",
       "      <td>0</td>\n",
       "      <td>0</td>\n",
       "      <td>3</td>\n",
       "      <td>1334534400</td>\n",
       "      <td>NaN</td>\n",
       "      <td>I like the product and tried it before I pucha...</td>\n",
       "    </tr>\n",
       "    <tr>\n",
       "      <td>484367</td>\n",
       "      <td>484368</td>\n",
       "      <td>B00020HHGS</td>\n",
       "      <td>A3TJPSWY2HE4BS</td>\n",
       "      <td>S. Layton \"homeschool blogger\"</td>\n",
       "      <td>1</td>\n",
       "      <td>24</td>\n",
       "      <td>2</td>\n",
       "      <td>1173312000</td>\n",
       "      <td>NaN</td>\n",
       "      <td>I only used two maybe three tea bags and got p...</td>\n",
       "    </tr>\n",
       "    <tr>\n",
       "      <td>486640</td>\n",
       "      <td>486641</td>\n",
       "      <td>B0014AUJII</td>\n",
       "      <td>A3TJPSWY2HE4BS</td>\n",
       "      <td>S. Layton \"homeschool blogger\"</td>\n",
       "      <td>1</td>\n",
       "      <td>24</td>\n",
       "      <td>2</td>\n",
       "      <td>1173312000</td>\n",
       "      <td>NaN</td>\n",
       "      <td>I only used two maybe three tea bags and got p...</td>\n",
       "    </tr>\n",
       "    <tr>\n",
       "      <td>503260</td>\n",
       "      <td>503261</td>\n",
       "      <td>B00020HHE0</td>\n",
       "      <td>A3TJPSWY2HE4BS</td>\n",
       "      <td>S. Layton \"homeschool blogger\"</td>\n",
       "      <td>1</td>\n",
       "      <td>24</td>\n",
       "      <td>2</td>\n",
       "      <td>1173312000</td>\n",
       "      <td>NaN</td>\n",
       "      <td>I only used two maybe three tea bags and got p...</td>\n",
       "    </tr>\n",
       "    <tr>\n",
       "      <td>530716</td>\n",
       "      <td>530717</td>\n",
       "      <td>B0014ATRV8</td>\n",
       "      <td>A3TJPSWY2HE4BS</td>\n",
       "      <td>S. Layton \"homeschool blogger\"</td>\n",
       "      <td>1</td>\n",
       "      <td>24</td>\n",
       "      <td>2</td>\n",
       "      <td>1173312000</td>\n",
       "      <td>NaN</td>\n",
       "      <td>I only used two maybe three tea bags and got p...</td>\n",
       "    </tr>\n",
       "  </tbody>\n",
       "</table>\n",
       "</div>"
      ],
      "text/plain": [
       "            Id   ProductId          UserId                     ProfileName  \\\n",
       "33958    33959  B00412W76S  A3TJPSWY2HE4BS  S. Layton \"homeschool blogger\"   \n",
       "40548    40549  B00020HHRW  A3TJPSWY2HE4BS  S. Layton \"homeschool blogger\"   \n",
       "101106  101107  B0014B0HWK  A3TJPSWY2HE4BS  S. Layton \"homeschool blogger\"   \n",
       "102979  102980  B000FVDWU4  A3TJPSWY2HE4BS  S. Layton \"homeschool blogger\"   \n",
       "117515  117516  B0016B7Z32  A3TJPSWY2HE4BS  S. Layton \"homeschool blogger\"   \n",
       "155712  155713  B0009VO58S  A3TJPSWY2HE4BS  S. Layton \"homeschool blogger\"   \n",
       "178290  178291  B00073IVAQ  A3TJPSWY2HE4BS  S. Layton \"homeschool blogger\"   \n",
       "198474  198475  B000FVBYCW  A3TJPSWY2HE4BS  S. Layton \"homeschool blogger\"   \n",
       "212691  212692  B00020HHAO  A3TJPSWY2HE4BS  S. Layton \"homeschool blogger\"   \n",
       "237565  237566  B000ELGPAO  A15AMT9T9A1309                     Film-Friend   \n",
       "293906  293907  B00020HHM2  A3TJPSWY2HE4BS  S. Layton \"homeschool blogger\"   \n",
       "299495  299496  B00142BX68  A3TJPSWY2HE4BS  S. Layton \"homeschool blogger\"   \n",
       "300961  300962  B000VJYTZM  A3TJPSWY2HE4BS  S. Layton \"homeschool blogger\"   \n",
       "333556  333557  B00188S3PM  A3TJPSWY2HE4BS  S. Layton \"homeschool blogger\"   \n",
       "352043  352044  B000M0F58U  A3TJPSWY2HE4BS  S. Layton \"homeschool blogger\"   \n",
       "357215  357216  B0006I5M2M  A3TJPSWY2HE4BS  S. Layton \"homeschool blogger\"   \n",
       "357814  357815  B001GCTTRQ  A3TJPSWY2HE4BS  S. Layton \"homeschool blogger\"   \n",
       "360782  360783  B00020HHHC  A3TJPSWY2HE4BS  S. Layton \"homeschool blogger\"   \n",
       "379473  379474  B007RLRCLK  A3TJPSWY2HE4BS  S. Layton \"homeschool blogger\"   \n",
       "380558  380559  B00014DXCC  A3TJPSWY2HE4BS  S. Layton \"homeschool blogger\"   \n",
       "381313  381314  B00020HHK4  A3TJPSWY2HE4BS  S. Layton \"homeschool blogger\"   \n",
       "386283  386284  B00073JVFU  A3TJPSWY2HE4BS  S. Layton \"homeschool blogger\"   \n",
       "392529  392530  B001H9XOEW  A22R17YPXEULEZ                        Liz Wong   \n",
       "484367  484368  B00020HHGS  A3TJPSWY2HE4BS  S. Layton \"homeschool blogger\"   \n",
       "486640  486641  B0014AUJII  A3TJPSWY2HE4BS  S. Layton \"homeschool blogger\"   \n",
       "503260  503261  B00020HHE0  A3TJPSWY2HE4BS  S. Layton \"homeschool blogger\"   \n",
       "530716  530717  B0014ATRV8  A3TJPSWY2HE4BS  S. Layton \"homeschool blogger\"   \n",
       "\n",
       "        HelpfulnessNumerator  HelpfulnessDenominator  Score        Time  \\\n",
       "33958                      1                      24      2  1173312000   \n",
       "40548                      1                      24      2  1173312000   \n",
       "101106                     1                      24      2  1173312000   \n",
       "102979                     1                      24      2  1173312000   \n",
       "117515                     1                      24      2  1173312000   \n",
       "155712                     1                      24      2  1173312000   \n",
       "178290                     1                      24      2  1173312000   \n",
       "198474                     1                      24      2  1173312000   \n",
       "212691                     1                      24      2  1173312000   \n",
       "237565                     1                       1      3  1328572800   \n",
       "293906                     1                      24      2  1173312000   \n",
       "299495                     1                      24      2  1173312000   \n",
       "300961                     1                      24      2  1173312000   \n",
       "333556                     1                      24      2  1173312000   \n",
       "352043                     1                      24      2  1173312000   \n",
       "357215                     1                      24      2  1173312000   \n",
       "357814                     1                      24      2  1173312000   \n",
       "360782                     1                      24      2  1173312000   \n",
       "379473                     1                      24      2  1173312000   \n",
       "380558                     1                      24      2  1173312000   \n",
       "381313                     1                      24      2  1173312000   \n",
       "386283                     1                      24      2  1173312000   \n",
       "392529                     0                       0      3  1334534400   \n",
       "484367                     1                      24      2  1173312000   \n",
       "486640                     1                      24      2  1173312000   \n",
       "503260                     1                      24      2  1173312000   \n",
       "530716                     1                      24      2  1173312000   \n",
       "\n",
       "       Summary                                               Text  \n",
       "33958      NaN  I only used two maybe three tea bags and got p...  \n",
       "40548      NaN  I only used two maybe three tea bags and got p...  \n",
       "101106     NaN  I only used two maybe three tea bags and got p...  \n",
       "102979     NaN  I only used two maybe three tea bags and got p...  \n",
       "117515     NaN  I only used two maybe three tea bags and got p...  \n",
       "155712     NaN  I only used two maybe three tea bags and got p...  \n",
       "178290     NaN  I only used two maybe three tea bags and got p...  \n",
       "198474     NaN  I only used two maybe three tea bags and got p...  \n",
       "212691     NaN  I only used two maybe three tea bags and got p...  \n",
       "237565     NaN  This is a cool system only problem is that the...  \n",
       "293906     NaN  I only used two maybe three tea bags and got p...  \n",
       "299495     NaN  I only used two maybe three tea bags and got p...  \n",
       "300961     NaN  I only used two maybe three tea bags and got p...  \n",
       "333556     NaN  I only used two maybe three tea bags and got p...  \n",
       "352043     NaN  I only used two maybe three tea bags and got p...  \n",
       "357215     NaN  I only used two maybe three tea bags and got p...  \n",
       "357814     NaN  I only used two maybe three tea bags and got p...  \n",
       "360782     NaN  I only used two maybe three tea bags and got p...  \n",
       "379473     NaN  I only used two maybe three tea bags and got p...  \n",
       "380558     NaN  I only used two maybe three tea bags and got p...  \n",
       "381313     NaN  I only used two maybe three tea bags and got p...  \n",
       "386283     NaN  I only used two maybe three tea bags and got p...  \n",
       "392529     NaN  I like the product and tried it before I pucha...  \n",
       "484367     NaN  I only used two maybe three tea bags and got p...  \n",
       "486640     NaN  I only used two maybe three tea bags and got p...  \n",
       "503260     NaN  I only used two maybe three tea bags and got p...  \n",
       "530716     NaN  I only used two maybe three tea bags and got p...  "
      ]
     },
     "execution_count": 6,
     "metadata": {},
     "output_type": "execute_result"
    }
   ],
   "source": [
    "df[df['Summary'].isnull() == True]"
   ]
  },
  {
   "cell_type": "markdown",
   "metadata": {},
   "source": [
    "**observation**\n",
    "1. We see the *summary* is also empty. So we will be removing those rows as these are not required much."
   ]
  },
  {
   "cell_type": "code",
   "execution_count": 7,
   "metadata": {},
   "outputs": [],
   "source": [
    "reviews = reviews[reviews['Text'].isnull() == False]"
   ]
  },
  {
   "cell_type": "code",
   "execution_count": 8,
   "metadata": {},
   "outputs": [
    {
     "data": {
      "text/html": [
       "<div>\n",
       "<style scoped>\n",
       "    .dataframe tbody tr th:only-of-type {\n",
       "        vertical-align: middle;\n",
       "    }\n",
       "\n",
       "    .dataframe tbody tr th {\n",
       "        vertical-align: top;\n",
       "    }\n",
       "\n",
       "    .dataframe thead th {\n",
       "        text-align: right;\n",
       "    }\n",
       "</style>\n",
       "<table border=\"1\" class=\"dataframe\">\n",
       "  <thead>\n",
       "    <tr style=\"text-align: right;\">\n",
       "      <th></th>\n",
       "      <th>Text</th>\n",
       "      <th>Summary</th>\n",
       "    </tr>\n",
       "  </thead>\n",
       "  <tbody>\n",
       "  </tbody>\n",
       "</table>\n",
       "</div>"
      ],
      "text/plain": [
       "Empty DataFrame\n",
       "Columns: [Text, Summary]\n",
       "Index: []"
      ]
     },
     "execution_count": 8,
     "metadata": {},
     "output_type": "execute_result"
    }
   ],
   "source": [
    "reviews[reviews['Text'].isnull() == True]"
   ]
  },
  {
   "cell_type": "code",
   "execution_count": 9,
   "metadata": {},
   "outputs": [],
   "source": [
    "text = reviews['Text']\n",
    "summ = reviews['Summary']"
   ]
  },
  {
   "cell_type": "code",
   "execution_count": 10,
   "metadata": {},
   "outputs": [],
   "source": [
    "reviews.to_csv(\"text-summary.txt\", sep=\"\\t\", index=False)"
   ]
  },
  {
   "cell_type": "code",
   "execution_count": 11,
   "metadata": {},
   "outputs": [
    {
     "data": {
      "text/html": [
       "<div>\n",
       "<style scoped>\n",
       "    .dataframe tbody tr th:only-of-type {\n",
       "        vertical-align: middle;\n",
       "    }\n",
       "\n",
       "    .dataframe tbody tr th {\n",
       "        vertical-align: top;\n",
       "    }\n",
       "\n",
       "    .dataframe thead th {\n",
       "        text-align: right;\n",
       "    }\n",
       "</style>\n",
       "<table border=\"1\" class=\"dataframe\">\n",
       "  <thead>\n",
       "    <tr style=\"text-align: right;\">\n",
       "      <th></th>\n",
       "      <th>Text</th>\n",
       "      <th>Summary</th>\n",
       "    </tr>\n",
       "  </thead>\n",
       "  <tbody>\n",
       "    <tr>\n",
       "      <td>0</td>\n",
       "      <td>I have bought several of the Vitality canned d...</td>\n",
       "      <td>Good Quality Dog Food</td>\n",
       "    </tr>\n",
       "    <tr>\n",
       "      <td>1</td>\n",
       "      <td>Product arrived labeled as Jumbo Salted Peanut...</td>\n",
       "      <td>Not as Advertised</td>\n",
       "    </tr>\n",
       "    <tr>\n",
       "      <td>2</td>\n",
       "      <td>This is a confection that has been around a fe...</td>\n",
       "      <td>\"Delight\" says it all</td>\n",
       "    </tr>\n",
       "    <tr>\n",
       "      <td>3</td>\n",
       "      <td>If you are looking for the secret ingredient i...</td>\n",
       "      <td>Cough Medicine</td>\n",
       "    </tr>\n",
       "    <tr>\n",
       "      <td>4</td>\n",
       "      <td>Great taffy at a great price.  There was a wid...</td>\n",
       "      <td>Great taffy</td>\n",
       "    </tr>\n",
       "  </tbody>\n",
       "</table>\n",
       "</div>"
      ],
      "text/plain": [
       "                                                Text                Summary\n",
       "0  I have bought several of the Vitality canned d...  Good Quality Dog Food\n",
       "1  Product arrived labeled as Jumbo Salted Peanut...      Not as Advertised\n",
       "2  This is a confection that has been around a fe...  \"Delight\" says it all\n",
       "3  If you are looking for the secret ingredient i...         Cough Medicine\n",
       "4  Great taffy at a great price.  There was a wid...            Great taffy"
      ]
     },
     "execution_count": 11,
     "metadata": {},
     "output_type": "execute_result"
    }
   ],
   "source": [
    "df = pd.read_csv('text-summary.txt', sep='\\t')\n",
    "df.head()"
   ]
  },
  {
   "cell_type": "code",
   "execution_count": 12,
   "metadata": {},
   "outputs": [],
   "source": [
    "from __future__ import unicode_literals, print_function, division\n",
    "from io import open\n",
    "import unicodedata\n",
    "import string\n",
    "import re\n",
    "import random\n",
    "\n",
    "import torch\n",
    "import torch.nn as nn\n",
    "from torch import optim\n",
    "import torch.nn.functional as F\n",
    "\n",
    "device = torch.device(\"cuda\" if torch.cuda.is_available() else \"cpu\")"
   ]
  },
  {
   "cell_type": "code",
   "execution_count": 34,
   "metadata": {},
   "outputs": [],
   "source": [
    "SOS_token = 0\n",
    "EOS_token = 1\n",
    "OOV_token = 2\n",
    "\n",
    "class Lang:\n",
    "    def __init__(self, name):\n",
    "        self.name = name\n",
    "        self.word2index = {\"SOS\": 0, \"EOS\": 1, \"OOV\": 2}\n",
    "        self.word2count = {}\n",
    "        self.index2word = {0: \"SOS\", 1: \"EOS\", 2: \"OOV\"}\n",
    "        self.n_words = 3  # Count SOS and EOS and OOV\n",
    "\n",
    "    def addSentence(self, sentence):\n",
    "        for word in sentence.split(' '):\n",
    "            self.addWord(word)\n",
    "\n",
    "    def addWord(self, word):\n",
    "        if word not in self.word2index:\n",
    "            self.word2index[word] = self.n_words\n",
    "            self.word2count[word] = 1\n",
    "            self.index2word[self.n_words] = word\n",
    "            self.n_words += 1\n",
    "        else:\n",
    "            self.word2count[word] += 1"
   ]
  },
  {
   "cell_type": "code",
   "execution_count": 14,
   "metadata": {},
   "outputs": [],
   "source": [
    "# Lowercase, trim, and remove non-letter characters\n",
    "def normalizeString(s):\n",
    "    \"\"\"All words are separated with spaces, remove digits, separeate punctuation with spaces\"\"\"\n",
    "    s = s.lower().strip()\n",
    "    s = re.sub(r\"([.!?])\", r\" \\1 \", s)\n",
    "    s = re.sub(r\"[^a-zA-Z.!?]+\", r\" \", s)\n",
    "    \n",
    "    return s"
   ]
  },
  {
   "cell_type": "code",
   "execution_count": 15,
   "metadata": {},
   "outputs": [
    {
     "data": {
      "text/plain": [
       "' . he is very good boy . he always stay in home . very friendly humble and polite . who are you ? hi ! ! . how you doing ? i borrowed rupess from him . '"
      ]
     },
     "execution_count": 15,
     "metadata": {},
     "output_type": "execute_result"
    }
   ],
   "source": [
    "'''demo'''\n",
    "normalizeString('1234.1234, He is very good boy. He always stay in home. Very friendly, humble and polite. Who are you? Hi!!. How you doing? I borrowed 200 rupess from him.')"
   ]
  },
  {
   "cell_type": "code",
   "execution_count": 16,
   "metadata": {},
   "outputs": [],
   "source": [
    "def readLangs(document, summary):\n",
    "    print(\"Reading lines...\")\n",
    "\n",
    "    # Read the file and split into lines\n",
    "    lines = open('%s-%s.txt' % (document, summary), encoding='utf-8').read().strip().split('\\n')\n",
    "\n",
    "    # Split every line into pairs and normalize\n",
    "    pairs = [[normalizeString(s) for s in l.split('\\t')] for l in lines]\n",
    "\n",
    "    input_document = Lang(document)\n",
    "    output_summary = Lang(summary)\n",
    "\n",
    "    return input_document, output_summary, pairs"
   ]
  },
  {
   "cell_type": "code",
   "execution_count": 17,
   "metadata": {},
   "outputs": [],
   "source": [
    "CONTRACTIONS = {\"didn't\":\"did not\", \"mayn't\":\"may not\", \"can't\":\"can not\", \"won't\":\"will not\", \"isn't\":\"is not\", \\\n",
    "                \"amn't\":\"am not\", \"aren't\":\"are not\", \"wasn't\":\"was not\", \"weren't\":\"were not\", \"couldn't\":\"could not\", \\\n",
    "                \"wouldn't\":\"would not\", \"don't\":\"do not\", \"doesn't\":\"does not\",\\\n",
    "                \"i'll\":\"i will\", \"you'll\":\"you will\", \"they'll\":\"they will\",\\\n",
    "                \"may've\":\"may have\", \"can've\":\"can have\", \"will've\":\"will have\", \"you've\":\"you have\", \\\n",
    "                \"could've\":\"could have\", \"would've\":\"would have\", \"you've\":\"you have\", \"they\":\"they have\",\\\n",
    "                \"i've\":\"i have\", \"you've\":\"you have\", \"we've\":\"we have\", \"there's\":\"there is\", \"i'm\":\"i am\",\\\n",
    "                \"it's\":\"it is\", \"what's\":\"what is\", \"where's\":\"where is\", \"how's\":\"how is\", \"i'd\":\"i had\"}"
   ]
  },
  {
   "cell_type": "code",
   "execution_count": 18,
   "metadata": {},
   "outputs": [],
   "source": [
    "MAX_LENGTH = 500\n",
    "def filterPair(p):\n",
    "    return len(p[0].split(' ')) < MAX_LENGTH and len(p[1].split(' ')) < MAX_LENGTH\n",
    "\n",
    "def filterPairs(pairs):\n",
    "    return [pair for pair in pairs if filterPair(pair)]"
   ]
  },
  {
   "cell_type": "code",
   "execution_count": 19,
   "metadata": {},
   "outputs": [],
   "source": [
    "def prepareData(text, summ, reverse=False):\n",
    "    input_text, output_summ, pairs = readLangs(text, summ)\n",
    "    print(\"Read %s sentence pairs\" % len(pairs))\n",
    "    pairs = filterPairs(pairs)\n",
    "    print(\"Trimmed to %s sentence pairs\" % len(pairs))\n",
    "    print(\"Counting words...\")\n",
    "    for pair in pairs:\n",
    "        input_text.addSentence(pair[0])\n",
    "        output_summ.addSentence(pair[1])\n",
    "    print(\"Counted words:\")\n",
    "    print(input_text.name, input_text.n_words)\n",
    "    print(output_summ.name, output_summ.n_words)\n",
    "    return input_text, output_summ, pairs"
   ]
  },
  {
   "cell_type": "code",
   "execution_count": 20,
   "metadata": {},
   "outputs": [
    {
     "name": "stdout",
     "output_type": "stream",
     "text": [
      "Reading lines...\n",
      "Read 568455 sentence pairs\n",
      "Trimmed to 564958 sentence pairs\n",
      "Counting words...\n",
      "Counted words:\n",
      "text 107364\n",
      "summary 32598\n",
      "['my two schnauzers absolutely love the apple chicken chews from br veggie life vitality . i was having a difficult time obtaining them br from our pet store so i ordered them from amazon . no after ordering br packages and trying to return them because they are defective br i am told they are non refundable . very unhappy . in to the br trash . dogswell veggie life vitality sweet potato chicken and and apple chicken chews . ', 'stale product']\n"
     ]
    }
   ],
   "source": [
    "input_text, output_summ, pairs = prepareData('text', 'summary', True)\n",
    "print(random.choice(pairs))"
   ]
  },
  {
   "cell_type": "markdown",
   "metadata": {},
   "source": [
    "## Building the Seq2Seq model"
   ]
  },
  {
   "cell_type": "markdown",
   "metadata": {},
   "source": [
    "### The Encoder\n",
    "    The encoder of a seq2seq network is a RNN that outputs some value for every word from the input sentence. \n",
    "    For every input word the encoder outputs a vector and a hidden state, and uses the hidden state for the next input word."
   ]
  },
  {
   "cell_type": "code",
   "execution_count": 21,
   "metadata": {},
   "outputs": [],
   "source": [
    "class EncoderRNN(nn.Module):\n",
    "    def __init__(self, input_size, hidden_size):\n",
    "        super(EncoderRNN, self).__init__()\n",
    "\n",
    "        self.hidden_size = hidden_size\n",
    "        self.embedding = nn.Embedding(input_size, hidden_size) # creates its own embedding matrix of dim(inp_feature x hid_feature)\n",
    "        self.gru = nn.GRU(hidden_size, hidden_size)\n",
    "    \n",
    "    def forward(self, input, hidden):\n",
    "        embedded = self.embedding(input).view(1, 1, -1) # extracts positional embedding of the index of the word\n",
    "        output, hidden = self.gru(embedded, hidden)  # forward pass of the gru\n",
    "        return output, hidden\n",
    "    \n",
    "    def initHidden(self):\n",
    "        return torch.zeros(1, 1, self.hidden_size, device=device)"
   ]
  },
  {
   "cell_type": "markdown",
   "metadata": {},
   "source": [
    "### The Decoder\n",
    "    The decoder is another RNN that takes the encoder output vector(s) and outputs a sequence of words to create the translation."
   ]
  },
  {
   "cell_type": "code",
   "execution_count": 22,
   "metadata": {},
   "outputs": [],
   "source": [
    "\"\"\"===== only for demo purpose =====\"\"\"\n",
    "class DecoderRNN(nn.Module):\n",
    "    def __init__(self, hidden_size, output_size):\n",
    "        super(DecoderRNN, self).__init__()\n",
    "        self.hidden_size = hidden_size\n",
    "\n",
    "        self.embedding = nn.Embedding(output_size, hidden_size)\n",
    "        self.gru = nn.GRU(hidden_size, hidden_size)\n",
    "        self.out = nn.Linear(hidden_size, output_size)\n",
    "        self.softmax = nn.LogSoftmax(dim=1)\n",
    "\n",
    "    def forward(self, input, hidden):\n",
    "        output = self.embedding(input).view(1, 1, -1)\n",
    "        output = F.relu(output)\n",
    "        output, hidden = self.gru(output, hidden)\n",
    "        output = self.softmax(self.out(output[0]))\n",
    "        return output, hidden\n",
    "\n",
    "    def initHidden(self):\n",
    "        return torch.zeros(1, 1, self.hidden_size, device=device)"
   ]
  },
  {
   "cell_type": "markdown",
   "metadata": {},
   "source": [
    "### Attention Decoder\n",
    "    If only the context vector is passed betweeen the encoder and decoder, that single vector carries the burden of encoding the entire sentence.\n",
    "\n",
    "    Attention allows the decoder network to “focus” on a different part of the encoder’s outputs for every step of the decoder’s own outputs. First we calculate a set of attention weights. These will be multiplied by the encoder output vectors to create a weighted combination. The result (called attn_applied in the code) should contain information about that specific part of the input sequence, and thus help the decoder choose the right output words.\n",
    "    \n",
    "![attention_decoder](https://pytorch.org/tutorials/_images/attention-decoder-network.png)"
   ]
  },
  {
   "cell_type": "code",
   "execution_count": 23,
   "metadata": {},
   "outputs": [],
   "source": [
    "class AttnDecoderRNN(nn.Module):\n",
    "    def __init__(self, hidden_size, output_size, dropout_p=0.1, max_length=MAX_LENGTH):\n",
    "        super(AttnDecoderRNN, self).__init__()\n",
    "        self.hidden_size = hidden_size\n",
    "        self.output_size = output_size\n",
    "        self.dropout_p = dropout_p\n",
    "        self.max_length = max_length\n",
    "\n",
    "        self.embedding = nn.Embedding(self.output_size, self.hidden_size) # building emb matrix for summary words\n",
    "        self.attn = nn.Linear(self.hidden_size * 2, self.max_length)\n",
    "        self.attn_combine = nn.Linear(self.hidden_size * 2, self.hidden_size)\n",
    "        self.dropout = nn.Dropout(self.dropout_p)\n",
    "        self.gru = nn.GRU(self.hidden_size, self.hidden_size)\n",
    "        self.out = nn.Linear(self.hidden_size, self.output_size)\n",
    "\n",
    "    def forward(self, input, hidden, encoder_outputs):\n",
    "        embedded = self.embedding(input).view(1, 1, -1) # changes to 3d list\n",
    "        embedded = self.dropout(embedded) # adds dropout layer\n",
    "\n",
    "        attn_weights = F.softmax(self.attn(torch.cat((embedded[0], hidden[0]), 1)), dim=1)\n",
    "        attn_applied = torch.bmm(attn_weights.unsqueeze(0), encoder_outputs.unsqueeze(0)) # batch multiplication of attn_weights and encoder_output will produce the context vector\n",
    "\n",
    "        output = torch.cat((embedded[0], attn_applied[0]), 1)\n",
    "        output = self.attn_combine(output).unsqueeze(0)\n",
    "\n",
    "        output = F.relu(output)\n",
    "        output, hidden = self.gru(output, hidden)\n",
    "\n",
    "        output = F.log_softmax(self.out(output[0]), dim=1)\n",
    "        return output, hidden, attn_weights\n",
    "\n",
    "    def initHidden(self):\n",
    "        return torch.zeros(1, 1, self.hidden_size, device=device)"
   ]
  },
  {
   "cell_type": "markdown",
   "metadata": {},
   "source": [
    "## Training"
   ]
  },
  {
   "cell_type": "markdown",
   "metadata": {},
   "source": [
    "### Preparing the training the Data\n",
    "    To train, for each pair we will need an input tensor (indexes of the words in the input sentence) and target tensor (indexes of the words in the target sentence). While creating these vectors we will append the EOS token to both sequences."
   ]
  },
  {
   "cell_type": "code",
   "execution_count": 129,
   "metadata": {},
   "outputs": [],
   "source": [
    "def indexesFromSentence(lang, sentence):\n",
    "    return [lang.word2index[word] if word in lang.word2index else lang.word2index[\"OOV\"] for word in sentence.split(' ')] # positional encoding for word in sent\n",
    "\n",
    "\n",
    "def tensorFromSentence(lang, sentence):\n",
    "    indexes = indexesFromSentence(lang, sentence)\n",
    "    indexes.append(EOS_token) # marker for end of the sentences\n",
    "    return torch.tensor(indexes, dtype=torch.long, device=device).view(-1, 1)\n",
    "\n",
    "\n",
    "def tensorsFromPair(pair):\n",
    "    input_tensor = tensorFromSentence(input_text, pair[0])\n",
    "    target_tensor = tensorFromSentence(output_summ, pair[1])\n",
    "    return (input_tensor, target_tensor) # returns the 2 tensors text and summary appended with <EOS> @end"
   ]
  },
  {
   "cell_type": "markdown",
   "metadata": {},
   "source": [
    "### Training the Model\n",
    "    To train we run the input sentence through the encoder, and keep track of every output and the latest hidden state. Then the decoder is given the <SOS> token as its first input, and the last hidden state of the encoder as its first hidden state.\n",
    "\n",
    "    “Teacher forcing” is the concept of using the real target outputs as each next input, instead of using the decoder’s guess as the next input. Using teacher forcing causes it to converge faster but when the trained network is exploited, it may exhibit instability.\n",
    "\n",
    "    You can observe outputs of teacher-forced networks that read with coherent grammar but wander far from the correct translation - intuitively it has learned to represent the output grammar and can “pick up” the meaning once the teacher tells it the first few words, but it has not properly learned how to create the sentence from the translation in the first place.\n",
    "\n",
    "    Because of the freedom PyTorch’s autograd gives us, we can randomly choose to use teacher forcing or not with a simple if statement. Turn teacher_forcing_ratio up to use more of it."
   ]
  },
  {
   "cell_type": "code",
   "execution_count": 25,
   "metadata": {},
   "outputs": [],
   "source": [
    "teacher_forcing_ratio = 0.5\n",
    "\n",
    "def train(input_tensor, target_tensor, encoder, decoder, encoder_optimizer, decoder_optimizer, criterion, max_length=MAX_LENGTH):\n",
    "    encoder_hidden = encoder.initHidden()                                                               # max_length: max words in a sent\n",
    "\n",
    "    encoder_optimizer.zero_grad()\n",
    "    decoder_optimizer.zero_grad()\n",
    "\n",
    "    input_length = input_tensor.size(0) # number of words in current sentence\n",
    "    target_length = target_tensor.size(0) # number of words in the current summary sentence\n",
    "\n",
    "    # encoder_output is used for storing the encoder hidden states(output of gru) of one sentence\n",
    "    encoder_outputs = torch.zeros(max_length, encoder.hidden_size, device=device)\n",
    "\n",
    "    loss = 0\n",
    "\n",
    "    for ei in range(input_length):\n",
    "        encoder_output, encoder_hidden = encoder(input_tensor[ei], encoder_hidden) # compute forward pass of GRU for one word in the current sentence\n",
    "        encoder_outputs[ei] = encoder_output[0, 0] # extracts the 1-d output tensor from tensor of dim(1, 1, -1)\n",
    "\n",
    "    decoder_input = torch.tensor([[SOS_token]], device=device) # first input to decoder is <sos> always\n",
    "\n",
    "    decoder_hidden = encoder_hidden ## last ouput of the encoder feeded to the decoder first input\n",
    "\n",
    "    use_teacher_forcing = True if random.random() < teacher_forcing_ratio else False\n",
    "\n",
    "    if use_teacher_forcing:\n",
    "        # Teacher forcing: Feed the target as the next input\n",
    "        for di in range(target_length):\n",
    "            decoder_output, decoder_hidden, decoder_attention = decoder(decoder_input, decoder_hidden, encoder_outputs)\n",
    "            loss += criterion(decoder_output, target_tensor[di])\n",
    "            decoder_input = target_tensor[di]  # Teacher forcing\n",
    "\n",
    "    else:\n",
    "        # Without teacher forcing: use its own predictions as the next input\n",
    "        for di in range(target_length):\n",
    "            decoder_output, decoder_hidden, decoder_attention = decoder(decoder_input, decoder_hidden, encoder_outputs)\n",
    "            topv, topi = decoder_output.topk(1)\n",
    "            decoder_input = topi.squeeze().detach()  # detach from history as input\n",
    "\n",
    "            loss += criterion(decoder_output, target_tensor[di])\n",
    "            if decoder_input.item() == EOS_token:\n",
    "                break\n",
    "\n",
    "    loss.backward()\n",
    "\n",
    "    encoder_optimizer.step()\n",
    "    decoder_optimizer.step()\n",
    "\n",
    "    return loss.item() / target_length"
   ]
  },
  {
   "cell_type": "code",
   "execution_count": 26,
   "metadata": {},
   "outputs": [],
   "source": [
    "import time\n",
    "import math\n",
    "\n",
    "\n",
    "def asMinutes(s):\n",
    "    m = math.floor(s / 60)\n",
    "    s -= m * 60\n",
    "    return '%dm %ds' % (m, s)\n",
    "\n",
    "\n",
    "def timeSince(since, percent):\n",
    "    now = time.time()\n",
    "    s = now - since\n",
    "    es = s / (percent)\n",
    "    rs = es - s\n",
    "    return '%s (~remaining time:%s)' % (asMinutes(s), asMinutes(rs))"
   ]
  },
  {
   "cell_type": "markdown",
   "metadata": {},
   "source": [
    "### Plotting results"
   ]
  },
  {
   "cell_type": "code",
   "execution_count": 28,
   "metadata": {},
   "outputs": [],
   "source": [
    "import matplotlib.pyplot as plt\n",
    "plt.switch_backend('agg')\n",
    "import matplotlib.ticker as ticker\n",
    "import numpy as np\n",
    "\n",
    "\n",
    "def showPlot(points):\n",
    "    plt.figure()\n",
    "    fig, ax = plt.subplots()\n",
    "    # this locator puts ticks at regular intervals\n",
    "    loc = ticker.MultipleLocator(base=0.2)\n",
    "    ax.yaxis.set_major_locator(loc)\n",
    "    plt.plot(points)\n",
    "    plt.show()"
   ]
  },
  {
   "cell_type": "code",
   "execution_count": 27,
   "metadata": {},
   "outputs": [],
   "source": [
    "def trainIters(encoder, decoder, n_iters, print_every=1000, plot_every=100, learning_rate=0.01):\n",
    "    start = time.time()\n",
    "    plot_losses = []\n",
    "    print_loss_total = 0  # Reset every print_every\n",
    "    plot_loss_total = 0  # Reset every plot_every\n",
    "\n",
    "    encoder_optimizer = optim.SGD(encoder.parameters(), lr=learning_rate)\n",
    "    decoder_optimizer = optim.SGD(decoder.parameters(), lr=learning_rate)\n",
    "    training_pairs = [tensorsFromPair(random.choice(pairs)) for i in range(n_iters)] # tensors:dim(#words_in_sent x 1) of position(index of word in vocab) from the words in a sentences\n",
    "    criterion = nn.NLLLoss()\n",
    "\n",
    "    for iter in range(1, n_iters + 1): # random sampling with replacement of n_iters sent from corpus\n",
    "        training_pair = training_pairs[iter - 1]\n",
    "        input_tensor = training_pair[0]\n",
    "        target_tensor = training_pair[1]\n",
    "\n",
    "        loss = train(input_tensor, target_tensor, encoder, decoder, encoder_optimizer, decoder_optimizer, criterion)\n",
    "        print_loss_total += loss\n",
    "        plot_loss_total += loss\n",
    "\n",
    "        if iter % print_every == 0:\n",
    "            print_loss_avg = print_loss_total / print_every\n",
    "            print_loss_total = 0\n",
    "            print('Total time:%s (iter:%d, Total Progress:%d%%) loss:%.4f' % (timeSince(start, iter / n_iters), iter, iter / n_iters * 100, print_loss_avg))\n",
    "\n",
    "        if iter % plot_every == 0:\n",
    "            plot_loss_avg = plot_loss_total / plot_every\n",
    "            plot_losses.append(plot_loss_avg)\n",
    "            plot_loss_total = 0\n",
    "\n",
    "    showPlot(plot_losses)"
   ]
  },
  {
   "cell_type": "code",
   "execution_count": 33,
   "metadata": {
    "scrolled": false
   },
   "outputs": [
    {
     "name": "stdout",
     "output_type": "stream",
     "text": [
      "3m 38s (- 542m 4s) (500 0%) 5.4525\n",
      "7m 24s (- 548m 27s) (1000 1%) 5.1407\n",
      "11m 22s (- 557m 25s) (1500 2%) 4.6573\n",
      "15m 2s (- 549m 7s) (2000 2%) 4.7421\n",
      "18m 41s (- 542m 14s) (2500 3%) 4.6819\n",
      "22m 33s (- 541m 35s) (3000 4%) 4.7421\n",
      "26m 36s (- 543m 24s) (3500 4%) 4.6997\n",
      "30m 36s (- 543m 25s) (4000 5%) 4.5513\n",
      "34m 26s (- 539m 34s) (4500 6%) 4.6894\n",
      "38m 7s (- 533m 41s) (5000 6%) 4.5826\n",
      "41m 58s (- 530m 20s) (5500 7%) 4.5608\n",
      "45m 49s (- 526m 54s) (6000 8%) 4.4609\n",
      "49m 49s (- 525m 7s) (6500 8%) 4.2642\n",
      "53m 52s (- 523m 20s) (7000 9%) 4.6182\n",
      "57m 48s (- 520m 20s) (7500 10%) 4.2886\n",
      "61m 36s (- 516m 0s) (8000 10%) 4.3482\n",
      "65m 21s (- 511m 17s) (8500 11%) 4.4045\n",
      "69m 18s (- 508m 14s) (9000 12%) 4.3816\n",
      "73m 31s (- 506m 59s) (9500 12%) 4.4184\n",
      "77m 16s (- 502m 20s) (10000 13%) 4.4001\n",
      "81m 7s (- 498m 19s) (10500 14%) 4.3393\n",
      "85m 6s (- 495m 8s) (11000 14%) 4.3677\n",
      "89m 5s (- 491m 58s) (11500 15%) 4.1786\n",
      "92m 51s (- 487m 31s) (12000 16%) 4.2096\n",
      "96m 35s (- 482m 56s) (12500 16%) 4.3330\n",
      "100m 18s (- 478m 21s) (13000 17%) 4.3165\n",
      "103m 59s (- 473m 44s) (13500 18%) 4.3351\n",
      "107m 44s (- 469m 24s) (14000 18%) 4.2648\n",
      "111m 39s (- 465m 52s) (14500 19%) 4.3344\n",
      "115m 36s (- 462m 27s) (15000 20%) 4.2744\n",
      "119m 35s (- 459m 4s) (15500 20%) 4.2640\n",
      "123m 32s (- 455m 32s) (16000 21%) 4.2327\n",
      "127m 20s (- 451m 28s) (16500 22%) 4.2979\n",
      "131m 6s (- 447m 19s) (17000 22%) 4.1230\n",
      "135m 2s (- 443m 43s) (17500 23%) 4.3103\n",
      "138m 57s (- 440m 2s) (18000 24%) 4.3200\n",
      "142m 43s (- 435m 52s) (18500 24%) 4.2164\n",
      "146m 40s (- 432m 17s) (19000 25%) 4.2000\n",
      "150m 27s (- 428m 14s) (19500 26%) 4.2280\n",
      "154m 19s (- 424m 23s) (20000 26%) 4.1288\n",
      "158m 16s (- 420m 45s) (20500 27%) 4.0881\n",
      "162m 1s (- 416m 38s) (21000 28%) 4.1416\n",
      "165m 57s (- 412m 58s) (21500 28%) 4.3082\n",
      "169m 36s (- 408m 35s) (22000 29%) 4.1664\n",
      "173m 14s (- 404m 14s) (22500 30%) 4.3552\n",
      "176m 56s (- 400m 2s) (23000 30%) 4.1483\n",
      "180m 53s (- 396m 24s) (23500 31%) 4.0959\n",
      "184m 28s (- 392m 0s) (24000 32%) 4.2345\n",
      "188m 23s (- 388m 18s) (24500 32%) 4.0961\n",
      "192m 15s (- 384m 30s) (25000 33%) 4.2416\n",
      "196m 2s (- 380m 32s) (25500 34%) 4.2182\n",
      "199m 43s (- 376m 24s) (26000 34%) 4.2684\n",
      "203m 40s (- 372m 46s) (26500 35%) 4.1830\n",
      "207m 28s (- 368m 50s) (27000 36%) 4.2466\n",
      "211m 13s (- 364m 51s) (27500 36%) 4.2581\n",
      "214m 54s (- 360m 44s) (28000 37%) 4.2570\n",
      "218m 45s (- 356m 55s) (28500 38%) 4.2756\n",
      "222m 32s (- 352m 59s) (29000 38%) 4.2141\n",
      "226m 33s (- 349m 25s) (29500 39%) 4.1579\n",
      "230m 30s (- 345m 45s) (30000 40%) 4.1654\n",
      "234m 10s (- 341m 39s) (30500 40%) 4.2491\n",
      "237m 59s (- 337m 48s) (31000 41%) 3.9646\n",
      "241m 50s (- 333m 57s) (31500 42%) 4.1492\n",
      "245m 13s (- 329m 30s) (32000 42%) 4.0359\n",
      "249m 2s (- 325m 39s) (32500 43%) 4.1137\n",
      "252m 56s (- 321m 55s) (33000 44%) 4.1437\n",
      "256m 54s (- 318m 15s) (33500 44%) 4.1614\n",
      "260m 49s (- 314m 31s) (34000 45%) 4.0961\n",
      "264m 38s (- 310m 39s) (34500 46%) 4.0968\n",
      "268m 36s (- 306m 58s) (35000 46%) 4.1547\n",
      "272m 31s (- 303m 13s) (35500 47%) 4.0956\n",
      "276m 13s (- 299m 14s) (36000 48%) 4.1560\n",
      "280m 17s (- 295m 39s) (36500 48%) 4.1017\n",
      "284m 6s (- 291m 47s) (37000 49%) 4.1982\n",
      "287m 58s (- 287m 58s) (37500 50%) 4.1671\n",
      "291m 57s (- 284m 16s) (38000 50%) 4.1351\n",
      "295m 50s (- 280m 28s) (38500 51%) 4.1199\n",
      "299m 42s (- 276m 39s) (39000 52%) 3.9984\n",
      "303m 39s (- 272m 54s) (39500 52%) 4.2420\n",
      "307m 31s (- 269m 4s) (40000 53%) 4.1503\n",
      "311m 34s (- 265m 24s) (40500 54%) 4.2072\n",
      "315m 22s (- 261m 31s) (41000 54%) 4.0818\n",
      "319m 7s (- 257m 36s) (41500 55%) 3.9885\n",
      "322m 59s (- 253m 46s) (42000 56%) 4.1433\n",
      "326m 52s (- 249m 57s) (42500 56%) 4.0338\n",
      "330m 51s (- 246m 13s) (43000 57%) 4.1010\n",
      "334m 36s (- 242m 18s) (43500 57%) 3.9713\n",
      "338m 22s (- 238m 24s) (44000 58%) 4.0944\n",
      "342m 25s (- 234m 41s) (44500 59%) 4.2763\n",
      "346m 12s (- 230m 48s) (45000 60%) 4.0344\n",
      "350m 10s (- 227m 1s) (45500 60%) 4.1089\n",
      "354m 27s (- 223m 27s) (46000 61%) 4.1344\n",
      "358m 14s (- 219m 34s) (46500 62%) 4.0588\n",
      "362m 6s (- 215m 43s) (47000 62%) 4.0685\n",
      "366m 3s (- 211m 55s) (47500 63%) 4.1166\n",
      "369m 57s (- 208m 5s) (48000 64%) 4.1149\n",
      "373m 52s (- 204m 16s) (48500 64%) 4.1566\n",
      "377m 54s (- 200m 31s) (49000 65%) 4.1626\n",
      "381m 41s (- 196m 37s) (49500 66%) 3.9297\n",
      "385m 25s (- 192m 42s) (50000 66%) 4.0487\n",
      "389m 14s (- 188m 50s) (50500 67%) 4.1060\n",
      "392m 59s (- 184m 56s) (51000 68%) 4.0361\n",
      "396m 52s (- 181m 5s) (51500 68%) 4.2097\n",
      "400m 58s (- 177m 21s) (52000 69%) 4.2219\n",
      "404m 53s (- 173m 31s) (52500 70%) 3.9781\n",
      "408m 43s (- 169m 39s) (53000 70%) 4.0790\n",
      "412m 36s (- 165m 48s) (53500 71%) 4.1717\n",
      "416m 36s (- 162m 0s) (54000 72%) 4.0993\n",
      "420m 21s (- 158m 7s) (54500 72%) 3.9497\n",
      "424m 31s (- 154m 22s) (55000 73%) 4.0938\n",
      "428m 28s (- 150m 32s) (55500 74%) 3.9982\n",
      "432m 15s (- 146m 39s) (56000 74%) 4.0350\n",
      "436m 19s (- 142m 52s) (56500 75%) 4.1444\n",
      "440m 24s (- 139m 4s) (57000 76%) 4.1409\n",
      "444m 20s (- 135m 13s) (57500 76%) 3.9793\n",
      "448m 27s (- 131m 26s) (58000 77%) 3.9305\n",
      "452m 22s (- 127m 35s) (58500 78%) 4.0602\n",
      "456m 32s (- 123m 48s) (59000 78%) 4.1217\n",
      "460m 27s (- 119m 57s) (59500 79%) 4.0299\n",
      "464m 31s (- 116m 7s) (60000 80%) 3.9116\n",
      "468m 35s (- 112m 18s) (60500 80%) 4.0735\n",
      "472m 32s (- 108m 27s) (61000 81%) 4.0285\n",
      "476m 28s (- 104m 35s) (61500 82%) 3.8796\n",
      "482m 27s (- 101m 9s) (62000 82%) 4.0055\n",
      "489m 35s (- 97m 55s) (62500 83%) 4.0615\n",
      "496m 33s (- 94m 34s) (63000 84%) 4.0007\n",
      "503m 23s (- 91m 9s) (63500 84%) 3.9389\n",
      "510m 29s (- 87m 44s) (64000 85%) 4.0332\n",
      "517m 28s (- 84m 14s) (64500 86%) 4.0876\n",
      "524m 37s (- 80m 42s) (65000 86%) 4.0031\n",
      "529m 12s (- 76m 45s) (65500 87%) 4.0571\n",
      "533m 8s (- 72m 42s) (66000 88%) 4.0879\n",
      "537m 18s (- 68m 40s) (66500 88%) 4.0774\n",
      "541m 29s (- 64m 39s) (67000 89%) 4.0691\n",
      "545m 24s (- 60m 36s) (67500 90%) 3.9250\n",
      "549m 16s (- 56m 32s) (68000 90%) 3.9498\n",
      "553m 11s (- 52m 29s) (68500 91%) 3.9775\n",
      "557m 14s (- 48m 27s) (69000 92%) 3.9195\n",
      "561m 2s (- 44m 23s) (69500 92%) 4.0025\n",
      "564m 54s (- 40m 21s) (70000 93%) 4.0961\n",
      "568m 41s (- 36m 17s) (70500 94%) 4.0259\n",
      "572m 22s (- 32m 14s) (71000 94%) 3.9399\n",
      "576m 11s (- 28m 12s) (71500 95%) 3.8710\n",
      "579m 57s (- 24m 9s) (72000 96%) 3.9736\n",
      "583m 47s (- 20m 7s) (72500 96%) 3.9851\n",
      "587m 30s (- 16m 5s) (73000 97%) 3.8603\n",
      "591m 8s (- 12m 3s) (73500 98%) 3.9078\n",
      "595m 3s (- 8m 2s) (74000 98%) 4.0110\n",
      "598m 44s (- 4m 1s) (74500 99%) 3.9409\n",
      "602m 33s (- 0m 0s) (75000 100%) 3.9530\n"
     ]
    },
    {
     "data": {
      "text/plain": [
       "<Figure size 432x288 with 0 Axes>"
      ]
     },
     "metadata": {},
     "output_type": "display_data"
    },
    {
     "data": {
      "image/png": "[encoded data removed]",
      "text/plain": [
       "<Figure size 432x288 with 1 Axes>"
      ]
     },
     "metadata": {
      "needs_background": "light"
     },
     "output_type": "display_data"
    }
   ],
   "source": [
    "\"\"\"====== This cell initiates training ======\"\"\"\n",
    "hidden_size = 256\n",
    "encoder1 = EncoderRNN(input_text.n_words, hidden_size).to(device)\n",
    "attn_decoder1 = AttnDecoderRNN(hidden_size, output_summ.n_words, dropout_p=0.1).to(device)\n",
    "\n",
    "trainIters(encoder1, attn_decoder1, 75000, print_every = 500)"
   ]
  },
  {
   "cell_type": "markdown",
   "metadata": {},
   "source": [
    "**Observation**\n",
    "1. Need more coputational power for higher epoch.\n",
    "2. Higher epochs as loss is still decreasing.\n",
    "2. loss: st: 5.4, end: 3.9"
   ]
  },
  {
   "cell_type": "markdown",
   "metadata": {},
   "source": [
    "### Evaluation\n",
    "    Evaluation is mostly the same as training, but there are no targets so we simply feed the decoder’s predictions back to itself for each step. Every time it predicts a word we add it to the output string, and if it predicts the EOS token we stop there. We also store the decoder’s attention outputs for display later."
   ]
  },
  {
   "cell_type": "code",
   "execution_count": 29,
   "metadata": {},
   "outputs": [],
   "source": [
    "def evaluate(encoder, decoder, sentence, max_length=MAX_LENGTH):\n",
    "    with torch.no_grad():\n",
    "        input_tensor = tensorFromSentence(input_text, sentence)\n",
    "        input_length = input_tensor.size()[0]\n",
    "        encoder_hidden = encoder.initHidden()\n",
    "\n",
    "        encoder_outputs = torch.zeros(max_length, encoder.hidden_size, device=device)\n",
    "\n",
    "        for ei in range(input_length):\n",
    "            encoder_output, encoder_hidden = encoder(input_tensor[ei], encoder_hidden)\n",
    "            encoder_outputs[ei] += encoder_output[0, 0]\n",
    "\n",
    "        decoder_input = torch.tensor([[SOS_token]], device=device)  # SOS\n",
    "\n",
    "        decoder_hidden = encoder_hidden\n",
    "\n",
    "        decoded_words = []\n",
    "        decoder_attentions = torch.zeros(max_length, max_length)\n",
    "\n",
    "        for di in range(max_length):\n",
    "            decoder_output, decoder_hidden, decoder_attention = decoder(decoder_input, decoder_hidden, encoder_outputs)\n",
    "            decoder_attentions[di] = decoder_attention.data\n",
    "            topv, topi = decoder_output.data.topk(1)\n",
    "            if topi.item() == EOS_token:\n",
    "                decoded_words.append('<EOS>')\n",
    "                break\n",
    "            else:\n",
    "                decoded_words.append(output_summ.index2word[topi.item()])\n",
    "\n",
    "            decoder_input = topi.squeeze().detach()\n",
    "\n",
    "        return decoded_words, decoder_attentions[:di + 1]"
   ]
  },
  {
   "cell_type": "code",
   "execution_count": 30,
   "metadata": {},
   "outputs": [],
   "source": [
    "def evaluateRandomly(encoder, decoder, n=10):\n",
    "    for i in range(n):\n",
    "        pair = random.choice(pairs)\n",
    "        print('>', pair[0])\n",
    "        print('=', pair[1])\n",
    "        output_words, attentions = evaluate(encoder, decoder, pair[0])\n",
    "        output_sentence = ' '.join(output_words)\n",
    "        print('<', output_sentence)\n",
    "        print('')"
   ]
  },
  {
   "cell_type": "code",
   "execution_count": 36,
   "metadata": {},
   "outputs": [
    {
     "name": "stdout",
     "output_type": "stream",
     "text": [
      "> this is a great organic cereal . i love that each individual flake comes from one wheat berry that is steamed then squished no overprocessed flakes mixed with sugar as mass market raisin bran cereals . this does mean that the erewhon flakes are small as a few reviewers already mentioned . i really like the texture of this cereal . it tastes great with a blend of vanilla soymilk and cow s milk to provide a bit of sweetness since the cereal itself does not contain sugar . i do let it sit after adding milk to soften a bit before eating . it could use a few more raisins but that is not a big enough deal to downgrade my rating . another consideration is that this is not a fortified enriched cereal so it is different from the typical cereals that provide a bunch of added vitamins . it does fill you up g fiber per serving and helps to reduce between meal junk food cravings . \n",
      "= great cereal\n",
      "< great for the  <EOS>\n",
      "\n",
      "> these chips have the right amount of crunch and i enjoy the taste . chips are consistent and have a fairly even distribution of seasoning . i like the oz size bags just the right amount of chips . \n",
      "= crunchy and tasty\n",
      "< great chips chips !  <EOS>\n",
      "\n",
      "> such a healthy and delicious alternative to the north american wheat based crackers biscuits . awesome w cheese slices or even just by themselves ! \n",
      "= awesome\n",
      "< great ! <EOS>\n",
      "\n",
      "> i loved this product everyone that i gave a bag to raved about the freshness and taste\n",
      "= gourmet popcor\n",
      "< great taste <EOS>\n",
      "\n",
      ">  br this is a good albeit unexciting breakfast tea from stash . it is made from blended black teas . i much prefer stash s organic breakfast tea and stash s irish breakfast tea because both of those have distinctive and pleasurable tastes . however there is nothing wrong with stash english breakfast tea and it is a good change from basic orange pekoe tea . it can be brewed nice and strong without getting bitter by brewing it longer a sign of a good quality tea . recommended especially if you enjoy a simple basic tea . br \n",
      "= fine basic tea\n",
      "< good tea but not for the <EOS>\n",
      "\n",
      "> the taste is just like any quality whole wheat pasta but none of the harmful gluten . i am gluten sensitive and yet this pasta has no bad side effects . we love it . it s a ! ! \n",
      "= judi\n",
      "< great ! <EOS>\n",
      "\n",
      "> i have ordered this twice and was very pleased . i liked the fact that a couple of teas and other specialty drinks were included . if you guys would make a version with no decaf i would be a regular buyer . my last order was over decaf . br i m sure a caffine filled box would make a lot more folks happy ! \n",
      "= love the selection just don t drink decaf\n",
      "< great for the price !  <EOS>\n",
      "\n",
      ">  i like bold but not bitter coffee . and since i add a generous amount of cream and sweenter this coffee works well for me . yes it is much too strong if i try to drink it black . actually i double brew it and it comes out perfect . i run the k cup through on the medium setting and then run the same k cup through again on the small setting and it comes out perfect . perhaps that doesn t make me a true bold coffee drinker but i love the flavor that results . i would recommend people try the double brewing method if you find that some of the k cups are too strong for you . you get more coffee with just one k cup . \n",
      "= double brew it\n",
      "< great coffee for a cup of coffee . . .  <EOS>\n",
      "\n",
      "> i tried tried tried to breast feed after hiring a lactation nurse taking drugs from here canada . . . pumping every hours with what looked like a car battery . i finally read in my studies research that women with bad thyroids sometimes can not breast feed . so there you have it . then i turned my research to formula this one is by far the superior formula . my baby bear lives it . he actually likes it room temp . \n",
      "= if u have to use formula this is the best one by far ! ! ! ! ! ! ! ! \n",
      "< great for the <EOS>\n",
      "\n",
      "> i buy these for my dorm living daughter and she is in heaven . fast and cheap you can t beat this stuff . \n",
      "= kid food\n",
      "< great for <EOS>\n",
      "\n"
     ]
    }
   ],
   "source": [
    "evaluateRandomly(encoder1, attn_decoder1)"
   ]
  },
  {
   "cell_type": "markdown",
   "metadata": {},
   "source": [
    "## Visualizing Attention"
   ]
  },
  {
   "cell_type": "code",
   "execution_count": 72,
   "metadata": {},
   "outputs": [
    {
     "name": "stdout",
     "output_type": "stream",
     "text": [
      "tata products are known for their quality . i have similar experience for toor dal . amazon offers great deal in its grocery . better to order from amazon as it is easy and cheap .\n",
      "great for the price <EOS>\n"
     ]
    },
    {
     "data": {
      "image/png": "[encoded data removed]",
      "text/plain": [
       "<Figure size 1152x144 with 1 Axes>"
      ]
     },
     "metadata": {
      "needs_background": "light"
     },
     "output_type": "display_data"
    }
   ],
   "source": [
    "output_words, attentions = evaluate(encoder1, attn_decoder1, \"tata products are known for their quality . i have similar experience for toor dal . amazon offers great deal in its grocery . better to order from amazon as it is easy and cheap .\")\n",
    "print(\"tata products are known for their quality . i have similar experience for toor dal . amazon offers great deal in its grocery . better to order from amazon as it is easy and cheap .\")\n",
    "print(' '.join(w for w in output_words))\n",
    "plt.matshow(attentions.numpy())\n",
    "plt.show()"
   ]
  },
  {
   "cell_type": "code",
   "execution_count": 51,
   "metadata": {},
   "outputs": [
    {
     "name": "stdout",
     "output_type": "stream",
     "text": [
      "input = tata products are known for their quality . i have similar experience for toor dal . amazon offers great deal in its grocery . better to order from amazon as it is easy and cheap .\n",
      "output = great for the price <EOS>\n"
     ]
    },
    {
     "data": {
      "image/png": "[encoded data removed]",
      "text/plain": [
       "<Figure size 432x288 with 2 Axes>"
      ]
     },
     "metadata": {
      "needs_background": "light"
     },
     "output_type": "display_data"
    },
    {
     "name": "stdout",
     "output_type": "stream",
     "text": [
      "input = i have been buying online for some time now . nothing to beat the quality of tata . brands in big basket , grofers are all are several notches below tata and many times you find live flies in packaging date is fresh also . . .\n",
      "output = great product <EOS>\n"
     ]
    },
    {
     "data": {
      "image/png": "[encoded data removed]",
      "text/plain": [
       "<Figure size 432x288 with 2 Axes>"
      ]
     },
     "metadata": {
      "needs_background": "light"
     },
     "output_type": "display_data"
    },
    {
     "name": "stdout",
     "output_type": "stream",
     "text": [
      "input = i love these k cups ! ! one of my favorites ! i am someone who likes very light coffee which ends up making the coffee cold very fast and with these you don t need to add anything so it s great ! !\n",
      "output = great !  <EOS>\n"
     ]
    },
    {
     "data": {
      "image/png": "[encoded data removed]",
      "text/plain": [
       "<Figure size 432x288 with 2 Axes>"
      ]
     },
     "metadata": {
      "needs_background": "light"
     },
     "output_type": "display_data"
    },
    {
     "name": "stdout",
     "output_type": "stream",
     "text": [
      "input = i m a big fan of chai and usually opt for the oregon or tazo variety . i saw this and had to try it as the convenience of a single serve chai made in seconds seemed to good to pass up . my expectations were pretty high as k cups are usually pretty delicious and the prices are steep . i sampled this one on the . oz . setting on my machine and it smelled wonderful as it brewed mixed . as it poured into the cup i took some time to read the ingredients . i noticed that this k cup is nothing more than and instant chai powder mix with powdered milk creamer and sugar . actually the first ingredient isn t even tea it s creamer . i didn t get too hung up on the details and tried the drink . it tasted ok until the end . the after taste was terrible and very unpleasant . it s hard to describe but i didn t like it . the overall taste of the drink was on the watery side and lacked the creaminess that i m used to with a good chai latte . it also had a very artificial flavor to it . i don t expect a k cup to deliver what my local coffee shop can but this one definitely fell short . \n",
      "output = not good but not for me <EOS>\n"
     ]
    },
    {
     "data": {
      "image/png": "[encoded data removed]",
      "text/plain": [
       "<Figure size 432x288 with 2 Axes>"
      ]
     },
     "metadata": {
      "needs_background": "light"
     },
     "output_type": "display_data"
    }
   ],
   "source": [
    "def showAttention(input_sentence, output_words, attentions):\n",
    "    # Set up figure with colorbar\n",
    "    fig = plt.figure()\n",
    "    ax = fig.add_subplot(111)\n",
    "    cax = ax.matshow(attentions.numpy(), cmap='bone')\n",
    "    fig.colorbar(cax)\n",
    "\n",
    "    # Set up axes\n",
    "    ax.set_xticklabels([''] + input_sentence.split(' ') + ['<EOS>'], rotation=90)\n",
    "    ax.set_yticklabels([''] + output_words)\n",
    "\n",
    "    # Show label at every tick\n",
    "    ax.xaxis.set_major_locator(ticker.MultipleLocator(1))\n",
    "    ax.yaxis.set_major_locator(ticker.MultipleLocator(1))\n",
    "\n",
    "    plt.show()\n",
    "\n",
    "\n",
    "def evaluateAndShowAttention(input_sentence):\n",
    "    output_words, attentions = evaluate(\n",
    "        encoder1, attn_decoder1, input_sentence)\n",
    "    print('input =', input_sentence)\n",
    "    print('output =', ' '.join(output_words))\n",
    "    showAttention(input_sentence, output_words, attentions)\n",
    "\n",
    "## +ve\n",
    "## good quality\n",
    "evaluateAndShowAttention(\"tata products are known for their quality . i have similar experience for toor dal . amazon offers great deal in its grocery . better to order from amazon as it is easy and cheap .\")\n",
    "\n",
    "## +ve\n",
    "## Best quality and great taste .. authentic product\n",
    "evaluateAndShowAttention(\"i have been buying online for some time now . nothing to beat the quality of tata . brands in big basket , grofers are all are several notches below tata and many times you find live flies in packaging date is fresh also . . .\")\n",
    "\n",
    "evaluateAndShowAttention(\"i love these k cups ! ! one of my favorites ! i am someone who likes very light coffee which ends up making the coffee cold very fast and with these you don t need to add anything so it s great ! !\")\n",
    "\n",
    "evaluateAndShowAttention(random.choice(pairs)[0])"
   ]
  },
  {
   "cell_type": "code",
   "execution_count": null,
   "metadata": {},
   "outputs": [],
   "source": []
  },
  {
   "cell_type": "code",
   "execution_count": 91,
   "metadata": {},
   "outputs": [
    {
     "name": "stdout",
     "output_type": "stream",
     "text": [
      "this is the first time i ve used the coconut oil from manila coco factory and i was so pleased with the taste smell and overall incredible quality that i will buy more and recommend it to my family and friends . i am so glad i tried it . i have been using coconut oil for several years and it has changed my life and health . this oil ranks high in my book . also i liked ordering this product through amazon because they make it fast easy and painless . thank you for having this product on your site amazon .  \n",
      "\n",
      "totally fantastic \n",
      "\n",
      " ['great', '<EOS>']\n",
      "0\n"
     ]
    }
   ],
   "source": [
    "import nltk\n",
    "\n",
    "pair = pairs[1050]\n",
    "print(pair[0], '\\n')\n",
    "hypothesis = pair[1]\n",
    "reference, _ = evaluate(encoder1, attn_decoder1, pair[1])\n",
    "print(hypothesis, '\\n\\n', reference)\n",
    "#the maximum is bigram, so assign the weight into 2 half.\n",
    "BLEUscore = nltk.translate.bleu_score.sentence_bleu([reference], hypothesis)\n",
    "print (BLEUscore)"
   ]
  },
  {
   "cell_type": "code",
   "execution_count": 128,
   "metadata": {},
   "outputs": [
    {
     "name": "stdout",
     "output_type": "stream",
     "text": [
      "100 200 300 400 500 600 700 800 900 1000 \n",
      "f:0.10865687466580504, p:0.12792607392607402, r:0.12604756909756917\n"
     ]
    }
   ],
   "source": [
    "from rouge import Rouge \n",
    "import random\n",
    "\n",
    "sum_f, sum_p, sum_r = 0, 0, 0\n",
    "samples = 1000\n",
    "c = 0\n",
    "for i in range(samples):\n",
    "    text = random.choice(pairs)\n",
    "    hypothesis = text[1]\n",
    "    reference, _ = evaluate(encoder1, attn_decoder1, text[0])\n",
    "    reference = ' '.join(w for w in reference)\n",
    "\n",
    "#     print(\"<text>\", text[0], '\\n')\n",
    "#     print(\"<summary>\", hypothesis, '\\n')\n",
    "#     print(\"<m/c summary>\", reference, '\\n')\n",
    "\n",
    "    rouge = Rouge()\n",
    "    try:\n",
    "        scores = rouge.get_scores(hypothesis, reference)\n",
    "#         print ('Rouge-1 : ', scores[0]['rouge-1'])\n",
    "#         print ('Rouge-2 : ', scores[0]['rouge-2'])\n",
    "#         print ('Rouge-L : ', scores[0]['rouge-l'])\n",
    "\n",
    "        sum_f += scores[0]['rouge-l']['f']\n",
    "        sum_p += scores[0]['rouge-l']['p']\n",
    "        sum_r += scores[0]['rouge-l']['r']\n",
    "    except:\n",
    "        c+=1\n",
    "        pass\n",
    "\n",
    "    if((i+1)%100 == 0):\n",
    "        print(i+1, end=' ')\n",
    "samples -= c\n",
    "print()\n",
    "print(\"f:{}, p:{}, r:{}\".format(sum_f/samples, sum_p/samples, sum_r/samples))"
   ]
  },
  {
   "cell_type": "markdown",
   "metadata": {},
   "source": [
    "**Observation**\n",
    "1. need more epoch for better results \n",
    "2. need copy and coverage for better results"
   ]
  },
  {
   "cell_type": "code",
   "execution_count": null,
   "metadata": {},
   "outputs": [],
   "source": []
  },
  {
   "cell_type": "code",
   "execution_count": null,
   "metadata": {},
   "outputs": [],
   "source": []
  }
 ],
 "metadata": {
  "kernelspec": {
   "display_name": "Python 3",
   "language": "python",
   "name": "python3"
  },
  "language_info": {
   "codemirror_mode": {
    "name": "ipython",
    "version": 3
   },
   "file_extension": ".py",
   "mimetype": "text/x-python",
   "name": "python",
   "nbconvert_exporter": "python",
   "pygments_lexer": "ipython3",
   "version": "3.6.8"
  }
 },
 "nbformat": 4,
 "nbformat_minor": 2
}
